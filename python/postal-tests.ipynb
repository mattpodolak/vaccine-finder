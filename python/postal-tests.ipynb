{
 "cells": [
  {
   "cell_type": "code",
   "execution_count": 1,
   "metadata": {},
   "outputs": [],
   "source": [
    "import pandas as pd\n",
    "import numpy as np\n",
    "from sklearn.neighbors import BallTree\n",
    "import hnswlib"
   ]
  },
  {
   "cell_type": "code",
   "execution_count": 160,
   "metadata": {},
   "outputs": [],
   "source": [
    "postal_codes = pd.read_csv('./CanadianPostalCodes.csv')"
   ]
  },
  {
   "cell_type": "code",
   "execution_count": 162,
   "metadata": {},
   "outputs": [],
   "source": [
    "# save only FSA codes\n",
    "postal_codes.loc[:, ['FSA']].to_csv('./FSA.csv', index=False)"
   ]
  },
  {
   "cell_type": "code",
   "execution_count": 5,
   "metadata": {},
   "outputs": [
    {
     "data": {
      "text/html": [
       "<div>\n",
       "<style scoped>\n",
       "    .dataframe tbody tr th:only-of-type {\n",
       "        vertical-align: middle;\n",
       "    }\n",
       "\n",
       "    .dataframe tbody tr th {\n",
       "        vertical-align: top;\n",
       "    }\n",
       "\n",
       "    .dataframe thead th {\n",
       "        text-align: right;\n",
       "    }\n",
       "</style>\n",
       "<table border=\"1\" class=\"dataframe\">\n",
       "  <thead>\n",
       "    <tr style=\"text-align: right;\">\n",
       "      <th></th>\n",
       "      <th>PostalCode</th>\n",
       "      <th>FSA</th>\n",
       "      <th>Latitude</th>\n",
       "      <th>Longitude</th>\n",
       "      <th>Place Name</th>\n",
       "      <th>FSA1</th>\n",
       "      <th>FSA-Province</th>\n",
       "      <th>AreaType</th>\n",
       "    </tr>\n",
       "  </thead>\n",
       "  <tbody>\n",
       "    <tr>\n",
       "      <th>0</th>\n",
       "      <td>A0A0A0</td>\n",
       "      <td>A0A</td>\n",
       "      <td>48.567450</td>\n",
       "      <td>-54.843225</td>\n",
       "      <td>Gander</td>\n",
       "      <td>A</td>\n",
       "      <td>10.0</td>\n",
       "      <td>Rural</td>\n",
       "    </tr>\n",
       "    <tr>\n",
       "      <th>1</th>\n",
       "      <td>A0A1A0</td>\n",
       "      <td>A0A</td>\n",
       "      <td>47.007347</td>\n",
       "      <td>-52.958921</td>\n",
       "      <td>Aquaforte</td>\n",
       "      <td>A</td>\n",
       "      <td>10.0</td>\n",
       "      <td>Rural</td>\n",
       "    </tr>\n",
       "    <tr>\n",
       "      <th>2</th>\n",
       "      <td>A0A1B0</td>\n",
       "      <td>A0A</td>\n",
       "      <td>47.362280</td>\n",
       "      <td>-53.293993</td>\n",
       "      <td>Avondale</td>\n",
       "      <td>A</td>\n",
       "      <td>10.0</td>\n",
       "      <td>Rural</td>\n",
       "    </tr>\n",
       "  </tbody>\n",
       "</table>\n",
       "</div>"
      ],
      "text/plain": [
       "  PostalCode  FSA   Latitude  Longitude Place Name FSA1  FSA-Province AreaType\n",
       "0     A0A0A0  A0A  48.567450 -54.843225     Gander    A          10.0    Rural\n",
       "1     A0A1A0  A0A  47.007347 -52.958921  Aquaforte    A          10.0    Rural\n",
       "2     A0A1B0  A0A  47.362280 -53.293993   Avondale    A          10.0    Rural"
      ]
     },
     "execution_count": 5,
     "metadata": {},
     "output_type": "execute_result"
    }
   ],
   "source": [
    "postal_codes.head(3)"
   ]
  },
  {
   "cell_type": "code",
   "execution_count": 155,
   "metadata": {},
   "outputs": [],
   "source": [
    "def deg_to_rad(x): # convert lat, lon pair from deg to radians\n",
    "    print(x)\n",
    "    return [x[0] * np.pi / 180, x[1] * np.pi / 180]"
   ]
  },
  {
   "cell_type": "code",
   "execution_count": 50,
   "metadata": {},
   "outputs": [],
   "source": [
    "arr = np.asarray(postal_codes.loc[:, ['Latitude', 'Longitude']])\n",
    "arr_rad = np.array([ deg_to_rad(x) for x in arr ])\n",
    "point = [43.9048786, -79.4450157]\n",
    "point_rad = np.array(deg_to_rad(point))"
   ]
  },
  {
   "cell_type": "code",
   "execution_count": 159,
   "metadata": {},
   "outputs": [
    {
     "name": "stdout",
     "output_type": "stream",
     "text": [
      "[ 0.76628469 -1.3865771 ]\n"
     ]
    }
   ],
   "source": [
    "print(point_rad)"
   ]
  },
  {
   "cell_type": "code",
   "execution_count": 41,
   "metadata": {},
   "outputs": [],
   "source": [
    "def print_nearest(distances, fsa_codes):\n",
    "    for dist, fsa in zip(distances, fsa_codes):\n",
    "        print(f'{fsa} - {rad_to_km(dist):.4f}km')"
   ]
  },
  {
   "cell_type": "markdown",
   "metadata": {},
   "source": [
    "### Naive Method"
   ]
  },
  {
   "cell_type": "code",
   "execution_count": 88,
   "metadata": {},
   "outputs": [
    {
     "name": "stdout",
     "output_type": "stream",
     "text": [
      "Wall time: 169 ms\n"
     ]
    }
   ],
   "source": [
    "%%time\n",
    "distances = np.sum((arr-point)**2,axis=1)\n",
    "fsa_lookup = np.asarray(postal_codes.loc[:, ['FSA']])\n",
    "\n",
    "p = distances.argsort(kind='mergesort')\n",
    "distance_sorted = distances[p][:100]\n",
    "nearest = fsa_lookup[p][:100]"
   ]
  },
  {
   "cell_type": "code",
   "execution_count": 89,
   "metadata": {},
   "outputs": [
    {
     "name": "stdout",
     "output_type": "stream",
     "text": [
      "['L4S'] - 0.0002km\n",
      "['L4E'] - 0.0953km\n",
      "['L4C'] - 0.2783km\n"
     ]
    }
   ],
   "source": [
    "u, indices = np.unique(nearest, return_index=True)\n",
    "i = sorted(indices)[:4] # pick 3 closest unique postal codes\n",
    "\n",
    "print_nearest(distance_sorted[i], nearest[i])"
   ]
  },
  {
   "cell_type": "markdown",
   "metadata": {},
   "source": [
    "### BallTree Method"
   ]
  },
  {
   "cell_type": "code",
   "execution_count": 138,
   "metadata": {},
   "outputs": [
    {
     "name": "stdout",
     "output_type": "stream",
     "text": [
      "Wall time: 1.85 s\n"
     ]
    }
   ],
   "source": [
    "%%time\n",
    "tree = BallTree(arr_rad, leaf_size=2, metric='haversine') # initialize index"
   ]
  },
  {
   "cell_type": "code",
   "execution_count": 131,
   "metadata": {},
   "outputs": [],
   "source": [
    "import pickle\n",
    "pickle.dump(tree, open('ball_postal_index.p', \"wb\"))"
   ]
  },
  {
   "cell_type": "code",
   "execution_count": 84,
   "metadata": {},
   "outputs": [
    {
     "name": "stdout",
     "output_type": "stream",
     "text": [
      "Wall time: 2 ms\n"
     ]
    }
   ],
   "source": [
    "%%time\n",
    "dist, ind = tree.query([point_rad], k=100) "
   ]
  },
  {
   "cell_type": "code",
   "execution_count": 149,
   "metadata": {},
   "outputs": [
    {
     "name": "stdout",
     "output_type": "stream",
     "text": [
      "Wall time: 1 ms\n"
     ]
    }
   ],
   "source": [
    "# find postal codes in a radius\n",
    "%%time\n",
    "radius = km_to_rad(5)\n",
    "point_rad = np.array(deg_to_rad(point))\n",
    "ind = tree.query_radius([point_rad], r=[radius]) "
   ]
  },
  {
   "cell_type": "code",
   "execution_count": 156,
   "metadata": {},
   "outputs": [
    {
     "name": "stdout",
     "output_type": "stream",
     "text": [
      "[43.9048786, -79.4450157]\n"
     ]
    }
   ],
   "source": [
    "point_rad = np.array(deg_to_rad(point))"
   ]
  },
  {
   "cell_type": "code",
   "execution_count": 154,
   "metadata": {},
   "outputs": [
    {
     "data": {
      "text/plain": [
       "array(['L0G', 'L3T', 'L4A', 'L4B', 'L4C', 'L4E', 'L4M', 'L4S', 'L6A',\n",
       "       'L6B', 'M2M', 'M2N'], dtype=object)"
      ]
     },
     "execution_count": 154,
     "metadata": {},
     "output_type": "execute_result"
    }
   ],
   "source": [
    "fsa = np.asarray(postal_codes.loc[:, ['FSA']])\n",
    "np.unique(fsa[ind[-1]])"
   ]
  },
  {
   "cell_type": "code",
   "execution_count": 85,
   "metadata": {},
   "outputs": [
    {
     "name": "stdout",
     "output_type": "stream",
     "text": [
      "['L4S'] - 0.0171km\n",
      "['L4E'] - 0.4244km\n",
      "['L4C'] - 0.7263km\n"
     ]
    }
   ],
   "source": [
    "nearest = np.asarray(postal_codes.loc[ind[-1], ['FSA']])\n",
    "\n",
    "u, indices = np.unique(nearest, return_index=True)\n",
    "i = sorted(indices)[:4] # pick 3 closest unique postal codes\n",
    "\n",
    "print_nearest(dist[-1][i], nearest[i])"
   ]
  },
  {
   "cell_type": "code",
   "execution_count": 129,
   "metadata": {},
   "outputs": [
    {
     "data": {
      "text/plain": [
       "array(['L4S', 'L4E', 'L4C'], dtype=object)"
      ]
     },
     "execution_count": 129,
     "metadata": {},
     "output_type": "execute_result"
    }
   ],
   "source": [
    "nearest[i].flatten()"
   ]
  },
  {
   "cell_type": "markdown",
   "metadata": {},
   "source": [
    "* Lookup is DAMN fast.... holy shit, building the tree takes some time as expected\n",
    "* Huge advantage of being able to use haversine metric"
   ]
  },
  {
   "cell_type": "code",
   "execution_count": 43,
   "metadata": {},
   "outputs": [],
   "source": [
    "# convert radians to km\n",
    "def rad_to_km(rad):\n",
    "    r = 6371 # earth radius in km\n",
    "    return rad*r # radians = arc_len / radius"
   ]
  },
  {
   "cell_type": "code",
   "execution_count": 132,
   "metadata": {},
   "outputs": [],
   "source": [
    "# convert radians to km\n",
    "def km_to_rad(km):\n",
    "    r = 6371 # earth radius in km\n",
    "    return km/r # radians = arc_len / radius"
   ]
  },
  {
   "cell_type": "markdown",
   "metadata": {},
   "source": [
    "### HNSWLIB"
   ]
  },
  {
   "cell_type": "code",
   "execution_count": 91,
   "metadata": {},
   "outputs": [
    {
     "name": "stdout",
     "output_type": "stream",
     "text": [
      "Wall time: 8.28 s\n"
     ]
    }
   ],
   "source": [
    "%%time\n",
    "hp = hnswlib.Index(space = 'l2', dim = 2)\n",
    "hp.init_index(max_elements = len(arr), ef_construction = 200, M = 16)\n",
    "arr_labels = np.asarray(postal_codes.index) # need unique data labels\n",
    "hp.add_items(arr, arr_labels)\n",
    "# Controlling the recall by setting ef:\n",
    "hp.set_ef(150) # ef should always be > k"
   ]
  },
  {
   "cell_type": "code",
   "execution_count": 107,
   "metadata": {},
   "outputs": [
    {
     "name": "stdout",
     "output_type": "stream",
     "text": [
      "Wall time: 499 µs\n"
     ]
    }
   ],
   "source": [
    "%%time\n",
    "# Query dataset, k - number of closest elements (returns 2 numpy arrays)\n",
    "labels, distances = hp.knn_query([point], k = 100)"
   ]
  },
  {
   "cell_type": "code",
   "execution_count": 111,
   "metadata": {},
   "outputs": [],
   "source": [
    "fsa = np.asarray(postal_codes.loc[:, ['FSA']])"
   ]
  },
  {
   "cell_type": "code",
   "execution_count": 120,
   "metadata": {},
   "outputs": [
    {
     "name": "stdout",
     "output_type": "stream",
     "text": [
      "['L4S'] - 0.0002km\n",
      "['L4E'] - 0.0953km\n",
      "['L4C'] - 0.2780km\n"
     ]
    }
   ],
   "source": [
    "nearest = fsa[labels[-1]]\n",
    "\n",
    "u, indices = np.unique(nearest, return_index=True)\n",
    "i = sorted(indices)[:6] # pick 5 closest unique postal codes\n",
    "\n",
    "print_nearest(distances[-1][i], nearest[i])"
   ]
  },
  {
   "cell_type": "markdown",
   "metadata": {},
   "source": [
    "* index creation is slower than balltree\n",
    "* lookup speed is ridiculous"
   ]
  },
  {
   "cell_type": "code",
   "execution_count": 96,
   "metadata": {},
   "outputs": [],
   "source": [
    "# save\n",
    "import pickle\n",
    "pickle.dump(hp, open('postal_index.p', \"wb\"))"
   ]
  },
  {
   "cell_type": "code",
   "execution_count": 97,
   "metadata": {},
   "outputs": [
    {
     "name": "stdout",
     "output_type": "stream",
     "text": [
      "Wall time: 404 ms\n"
     ]
    }
   ],
   "source": [
    "%%time\n",
    "hp = pickle.load(open('postal_index.p', \"rb\"))\n",
    "# Query dataset, k - number of closest elements (returns 2 numpy arrays)\n",
    "labels, distances = hp.knn_query([point], k = 100)"
   ]
  },
  {
   "cell_type": "code",
   "execution_count": 98,
   "metadata": {},
   "outputs": [],
   "source": [
    "hp.save_index(\"postal_index.bin\")"
   ]
  },
  {
   "cell_type": "code",
   "execution_count": 103,
   "metadata": {},
   "outputs": [
    {
     "name": "stdout",
     "output_type": "stream",
     "text": [
      "Wall time: 1.19 s\n"
     ]
    }
   ],
   "source": [
    "%%time\n",
    "p = hnswlib.Index(space='l2',dim=2)\n",
    "p.load_index('postal_index.bin')\n",
    "# Query dataset, k - number of closest elements (returns 2 numpy arrays)\n",
    "labels, distances = p.knn_query([point], k = 100)"
   ]
  },
  {
   "cell_type": "code",
   "execution_count": 122,
   "metadata": {},
   "outputs": [],
   "source": [
    "a = np.array([9, 2, 4])"
   ]
  },
  {
   "cell_type": "code",
   "execution_count": null,
   "metadata": {},
   "outputs": [],
   "source": []
  }
 ],
 "metadata": {
  "kernelspec": {
   "display_name": "Python 3",
   "language": "python",
   "name": "python3"
  },
  "language_info": {
   "codemirror_mode": {
    "name": "ipython",
    "version": 3
   },
   "file_extension": ".py",
   "mimetype": "text/x-python",
   "name": "python",
   "nbconvert_exporter": "python",
   "pygments_lexer": "ipython3",
   "version": "3.7.9"
  }
 },
 "nbformat": 4,
 "nbformat_minor": 4
}
