{
 "cells": [
  {
   "cell_type": "code",
   "execution_count": 66,
   "metadata": {},
   "outputs": [],
   "source": [
    "import tweepy\n",
    "import os\n",
    "from dotenv import load_dotenv\n",
    "import datetime as dt\n",
    "import re"
   ]
  },
  {
   "cell_type": "code",
   "execution_count": 318,
   "metadata": {},
   "outputs": [],
   "source": [
    "load_dotenv()\n",
    "consumer_key = os.getenv('TWITTER_CONSUMER_KEY')\n",
    "consumer_secret = os.getenv('TWITTER_CONSUMER_SECRET')\n",
    "access_token = os.getenv('TWITTER_TOKEN_KEY')\n",
    "access_token_secret = os.getenv('TWITTER_TOKEN_SECRET')"
   ]
  },
  {
   "cell_type": "code",
   "execution_count": 10,
   "metadata": {},
   "outputs": [],
   "source": [
    "auth = tweepy.OAuthHandler(consumer_key, consumer_secret)\n",
    "# auth.set_access_token(access_token, access_token_secret)"
   ]
  },
  {
   "cell_type": "code",
   "execution_count": 11,
   "metadata": {},
   "outputs": [],
   "source": [
    "api = tweepy.API(auth)"
   ]
  },
  {
   "cell_type": "code",
   "execution_count": 38,
   "metadata": {},
   "outputs": [],
   "source": [
    "screen_name=\"VaxHuntersCAN\""
   ]
  },
  {
   "cell_type": "code",
   "execution_count": 426,
   "metadata": {},
   "outputs": [],
   "source": [
    "tweets = api.user_timeline(screen_name, include_rts=True, count=200, tweet_mode = 'extended')"
   ]
  },
  {
   "cell_type": "code",
   "execution_count": 427,
   "metadata": {},
   "outputs": [],
   "source": [
    "now = dt.datetime.now()\n",
    "time_36h = now - dt.timedelta(hours=36)"
   ]
  },
  {
   "cell_type": "code",
   "execution_count": 428,
   "metadata": {},
   "outputs": [],
   "source": [
    "# extract tweets from last 36hrs\n",
    "tweets_36h = []\n",
    "for tweet in tweets:\n",
    "    if tweet.created_at > time_36h:\n",
    "        tweets_36h.append(tweet)\n",
    "    else:\n",
    "        print('Old tweet')"
   ]
  },
  {
   "cell_type": "code",
   "execution_count": 429,
   "metadata": {},
   "outputs": [
    {
     "data": {
      "text/plain": [
       "200"
      ]
     },
     "execution_count": 429,
     "metadata": {},
     "output_type": "execute_result"
    }
   ],
   "source": [
    "# number tweets from last 36h\n",
    "len(tweets_36h)"
   ]
  },
  {
   "cell_type": "code",
   "execution_count": 154,
   "metadata": {},
   "outputs": [
    {
     "name": "stdout",
     "output_type": "stream",
     "text": [
      "Shoppers Drug Mart - Oakridges: 13070 Yonge st\n"
     ]
    }
   ],
   "source": [
    "full_text = \"[ON] Richmond Hill 40+ APPOINTMENTS FROM 10am-5:30pm\\nShoppers Drug Mart - Oakridges: 13070 Yonge Street\\n22 AstraZeneca doses available, Online Booking\"\n",
    "lines = full_text.split(\"\\n\")\n",
    "age_pat = re.compile(r\"(street|road|drive|boulevard|avenue)\", re.IGNORECASE)\n",
    "for line in lines:\n",
    "    age = age_pat.search(line)\n",
    "    if age:\n",
    "        street = age.group(0)\n",
    "        sub = st_lookup[street.lower()]\n",
    "        line = re.sub(street, sub, line)\n",
    "        print(line)"
   ]
  },
  {
   "cell_type": "code",
   "execution_count": 153,
   "metadata": {},
   "outputs": [],
   "source": [
    "st_lookup = {'street': 'st', 'road': 'rd', 'drive': 'dr', 'boulevard': 'blvd', 'avenue':'ave'}"
   ]
  },
  {
   "cell_type": "code",
   "execution_count": 189,
   "metadata": {},
   "outputs": [],
   "source": [
    "a = []\n",
    "if(a):\n",
    "    print(a[0])"
   ]
  },
  {
   "cell_type": "code",
   "execution_count": 340,
   "metadata": {},
   "outputs": [
    {
     "data": {
      "text/plain": [
       "[]"
      ]
     },
     "execution_count": 340,
     "metadata": {},
     "output_type": "execute_result"
    }
   ],
   "source": [
    "extract.age_pat.findall(\"18 19\")"
   ]
  },
  {
   "cell_type": "code",
   "execution_count": 458,
   "metadata": {},
   "outputs": [],
   "source": [
    "class TweetExtract(object):\n",
    "    \n",
    "    def __init__(self):\n",
    "        self.age_pat = re.compile(r\"(\\d{2})\\+\")\n",
    "        self.year_pat = re.compile(r\"(Born|born).*(19\\d{2})\")\n",
    "        self.postal_pat = re.compile(r\"[A-Z]\\d[A-Z]\")\n",
    "        self.address_pat = re.compile(r\".*(\\d+.*\\s(?:st|rd|dr|ave|blvd|hwy|edge))(\\s|\\W|\\b)\", re.IGNORECASE)\n",
    "        self.sub_addr_pat = re.compile(r\"(?:\\d+\\s*[\\-]*)+(?:\\s\\w+)*\\s(?:st|rd|dr|ave|blvd|hwy)(?:(?:[\\s\\.]\\d+)|(?:,(?:\\s*\\w+)*)+)?\", re.IGNORECASE)\n",
    "        self.street_pat = re.compile(r\"(street|road|drive|boulevard|avenue|highway)\", re.IGNORECASE)\n",
    "        self.st_lookup = {'street': 'st', 'road': 'rd', 'drive': 'dr', 'boulevard': 'blvd', 'avenue':'ave', 'highway':'hwy'}\n",
    "        self.t_link_pat = re.compile(r\"https:\\/\\/t.co\\/\\w+\")\n",
    "        self.province_pat = re.compile(r\"\\[(\\w{2})\\]\")\n",
    "        self.all_postal_pat = re.compile(r'\\\"([A-Z])\\\".*(?:HOTSPOT|hotspot|Hotspot|hot spot)')\n",
    "        self.num_match = 0\n",
    "        \n",
    "        self.API_KEY = os.getenv('GOOGLE_API_KEY')\n",
    "        \n",
    "        # load hotspot postals\n",
    "        self.hotspot_postals()\n",
    "        \n",
    "        # load postal codes and ANN index\n",
    "        self.tree = pickle.load(open('./utils/ball_postal_index.p', \"rb\"))\n",
    "        postal_codes = pd.read_csv('./CanadianPostalCodes.csv')\n",
    "        self._fsa = np.asarray(postal_codes.loc[:, ['FSA']])\n",
    "        self._radius = [self.km_to_rad(2.5)] # search in 2.5km radius\n",
    "        del postal_codes\n",
    "        \n",
    "    def hotspot_postals(self):\n",
    "        resp = requests.get('http://localhost:3000/api/clinics/postal')\n",
    "        if resp.status_code == 200:\n",
    "            try:\n",
    "                codes = json.loads(resp.text)\n",
    "                if(codes):\n",
    "                    self.hotspot_map = codes['mapped']\n",
    "            except Exception as e:\n",
    "                self.hotspot_map = {}\n",
    "                pass # do nothing\n",
    "        \n",
    "    def get_age(self, full_text):\n",
    "        extracted_age = None\n",
    "        ages = self.age_pat.findall(full_text)\n",
    "        year = self.year_pat.search(full_text)\n",
    "        \n",
    "        if(ages): # check for age\n",
    "            min_age = ages[0]\n",
    "            for age in ages:\n",
    "                if age < min_age:\n",
    "                    min_age = age\n",
    "            extracted_age = min_age\n",
    "        elif (year): # check for year if age not included\n",
    "            extracted_age = 2021 - int(year.group(2))\n",
    "            \n",
    "        return extracted_age\n",
    "    \n",
    "    def nominatim(self,address):\n",
    "        lat = lon = None\n",
    "        # create parameter string to minimize formatting issues\n",
    "        payload= {'q': address, 'format': 'jsonv2','countrycodes':'ca','addressdetails':1}\n",
    "        payload_str = \"&\".join(\"%s=%s\" % (k,v) for k,v in payload.items())\n",
    "        resp = requests.get('https://nominatim.openstreetmap.org/search',params=payload_str)\n",
    "        if resp.status_code == 200:\n",
    "            try:\n",
    "                geodata = json.loads(resp.text)\n",
    "                if(geodata):\n",
    "                    lat = geodata[0]['lat']\n",
    "                    lon = geodata[0]['lon']\n",
    "            except Exception as e:\n",
    "                pass # do nothing\n",
    "        return lat, lon\n",
    "    \n",
    "    def gmaps(self,address):\n",
    "        lat = lon = None\n",
    "        payload= {'address': address,'components':'country:CA', 'key':self.API_KEY}\n",
    "        payload_str = \"&\".join(\"%s=%s\" % (k,v) for k,v in payload.items())\n",
    "        resp = requests.get('https://maps.googleapis.com/maps/api/geocode/json',params=payload_str)\n",
    "        if resp.status_code == 200:\n",
    "            try:\n",
    "                geodata = json.loads(resp.text)\n",
    "                if(geodata):\n",
    "                    lat = geodata[\"results\"][0][\"geometry\"][\"location\"]['lat']\n",
    "                    lon = geodata[\"results\"][0][\"geometry\"][\"location\"]['lng']\n",
    "            except Exception as e:\n",
    "                pass # do nothing\n",
    "        return lat, lon\n",
    "    \n",
    "    def search_address(self, address, sub_addr=None):\n",
    "#         n_lat, n_lon = self.nominatim(address)\n",
    "        g_lat, g_lon = self.gmaps(address)\n",
    "        \n",
    "        lat = g_lat #or n_lat\n",
    "        lon = g_lon #or n_lon\n",
    "        \n",
    "        if(not lat and sub_addr):\n",
    "            return self.search_address(sub_addr)\n",
    "        \n",
    "#         if(g_lat and n_lat):\n",
    "#             print(f'Diff in lat: {(float(g_lat) - float(n_lat))/float(g_lat)*100}')\n",
    "#             print(f'Diff in lon: {(float(g_lon) - float(n_lon))/float(g_lon) * 100}')\n",
    "        return lat, lon\n",
    "    \n",
    "    # convert radians to km\n",
    "    def rad_to_km(self,rad):\n",
    "        r = 6371 # earth radius in km\n",
    "        return rad*r # radians = arc_len / radius\n",
    "    \n",
    "    def km_to_rad(self,km):\n",
    "        r = 6371 # earth radius in km\n",
    "        return km/r # radians = arc_len / radius\n",
    "    \n",
    "    def deg_to_rad(self,x): # convert lat, lon pair from deg to radians\n",
    "        return [float(x[0]) * np.pi / 180, float(x[1]) * np.pi / 180]\n",
    "    \n",
    "    def find_postals(self, lat, lon):\n",
    "        point_rad = [np.array(self.deg_to_rad([lat, lon]))]\n",
    "        ind = self.tree.query_radius(point_rad, r=self._radius)\n",
    "        postals = np.unique(self._fsa[ind[-1]])\n",
    "        return postals\n",
    "        \n",
    "    def get_postal(self, full_text):\n",
    "        extracted_postal = []\n",
    "        clean_text = self.t_link_pat.sub('', full_text)\n",
    "        postals = self.postal_pat.findall(clean_text)\n",
    "        all_postal = self.all_postal_pat.search(full_text)\n",
    "        if all_postal:\n",
    "            letter = all_postal.group(1)\n",
    "            extracted_postal = self.hotspot_map.get(letter, [])\n",
    "        elif postals: #check for postal code\n",
    "            extracted_postal = postals\n",
    "        else: # check for address\n",
    "            lines = clean_text.split(\"\\n\")\n",
    "            for line in lines:\n",
    "                # replace street endings to standardize\n",
    "                st_match = self.street_pat.search(line)\n",
    "                if st_match:\n",
    "                    street = st_match.group(0)\n",
    "                    sub = self.st_lookup[street.lower()]\n",
    "                    line = re.sub(street, sub, line)\n",
    "               \n",
    "                # search for address\n",
    "                match = self.sub_addr_pat.search(line)\n",
    "                if match:\n",
    "                    addr = match.group(0)\n",
    "                    prov = self.province_pat.search(full_text) # extract province\n",
    "                    if prov:\n",
    "                        full_addr = f'{addr}, {prov.group(1)}'\n",
    "                    else:\n",
    "                        full_addr = addr\n",
    "                    lat,lon = self.search_address(full_addr)\n",
    "                    \n",
    "                    if(lat):                        \n",
    "                        # extract nearby postal codes\n",
    "                        extracted_postal = self.find_postals(lat,lon)\n",
    "        \n",
    "        return extracted_postal\n",
    "        \n",
    "    def single_tweet_extract(self, tweet):\n",
    "        t_data = dict()\n",
    "        \n",
    "        full_text = tweet.full_text\n",
    "\n",
    "        age = self.get_age(full_text)\n",
    "        postal_code = self.get_postal(full_text)\n",
    "\n",
    "        if(age and len(postal_code) > 0):\n",
    "            if len(tweet.entities['urls']) > 0:\n",
    "                url = tweet.entities['urls'][0]['expanded_url']\n",
    "            else:\n",
    "                url = None\n",
    "\n",
    "            t_data['id'] = tweet.id # use id for max_id\n",
    "            t_data['name'] = tweet.user.name # Vaccine Hunters Canada\n",
    "            t_data['screen_name'] = tweet.user.screen_name\n",
    "            t_data['lastUpdated'] = tweet.created_at\n",
    "            t_data['eligibility'] = full_text\n",
    "            t_data['postal_code'] = postal_code\n",
    "            t_data['status'] = \"open\"\n",
    "            t_data['age'] = age\n",
    "            t_data['booking_link'] = url\n",
    "        elif(hasattr(tweet, 'quoted_status')):\n",
    "            return self.single_tweet_extract(tweet.quoted_status)\n",
    "\n",
    "        return t_data\n",
    "    \n",
    "    def extract_tweets(self, tweets):\n",
    "        valid_tweet_data = []\n",
    "        for tweet in tweets:\n",
    "            tweet_data = self.single_tweet_extract(tweet)\n",
    "            if(tweet_data):\n",
    "                valid_tweet_data.append(tweet_data)\n",
    "#         print(self.num_match)        \n",
    "        return valid_tweet_data"
   ]
  },
  {
   "cell_type": "code",
   "execution_count": 460,
   "metadata": {
    "scrolled": true
   },
   "outputs": [
    {
     "name": "stdout",
     "output_type": "stream",
     "text": [
      "[ON] NEW POPUP ALERT: St. John the Evangelist Catholic School (23 George Street) is open to 18+ living or working in ALL \"M\" HOTSPOTS. 10am-9pm TODAY!  Let's get vaxxed!! https://t.co/A4FzWCxNHm #COVID19 #COVID19Vaccine #COVID19ON #vhcON\n",
      "M\n",
      "['M1B', 'M1C', 'M1E', 'M1G', 'M1H', 'M1J', 'M1K', 'M1L', 'M1M', 'M1P', 'M1R', 'M1S', 'M1T', 'M1V', 'M1W', 'M1X', 'M2J', 'M2M', 'M2R', 'M3A', 'M3C', 'M3H', 'M3J', 'M3K', 'M3L', 'M3M', 'M3N', 'M4A', 'M4H', 'M4X', 'M5A', 'M5B', 'M5N', 'M5V', 'M6A', 'M6B', 'M6E', 'M6H', 'M6K', 'M6L', 'M6M', 'M6N', 'M8V', 'M9A', 'M9B', 'M9C', 'M9L', 'M9M', 'M9N', 'M9P', 'M9R', 'M9V', 'M9W']\n"
     ]
    }
   ],
   "source": [
    "extract = TweetExtract()\n",
    "data = extract.extract_tweets(tweets_36h)"
   ]
  },
  {
   "cell_type": "code",
   "execution_count": 435,
   "metadata": {},
   "outputs": [],
   "source": [
    "tweets_df = pd.DataFrame(data)"
   ]
  },
  {
   "cell_type": "code",
   "execution_count": 436,
   "metadata": {},
   "outputs": [
    {
     "data": {
      "text/plain": [
       "59"
      ]
     },
     "execution_count": 436,
     "metadata": {},
     "output_type": "execute_result"
    }
   ],
   "source": [
    "len(tweets_df)"
   ]
  },
  {
   "cell_type": "code",
   "execution_count": 387,
   "metadata": {},
   "outputs": [
    {
     "data": {
      "text/html": [
       "<div>\n",
       "<style scoped>\n",
       "    .dataframe tbody tr th:only-of-type {\n",
       "        vertical-align: middle;\n",
       "    }\n",
       "\n",
       "    .dataframe tbody tr th {\n",
       "        vertical-align: top;\n",
       "    }\n",
       "\n",
       "    .dataframe thead th {\n",
       "        text-align: right;\n",
       "    }\n",
       "</style>\n",
       "<table border=\"1\" class=\"dataframe\">\n",
       "  <thead>\n",
       "    <tr style=\"text-align: right;\">\n",
       "      <th></th>\n",
       "      <th>id</th>\n",
       "      <th>name</th>\n",
       "      <th>screen_name</th>\n",
       "      <th>lastUpdated</th>\n",
       "      <th>eligibility</th>\n",
       "      <th>postal_code</th>\n",
       "      <th>status</th>\n",
       "      <th>age</th>\n",
       "      <th>booking_link</th>\n",
       "    </tr>\n",
       "  </thead>\n",
       "  <tbody>\n",
       "    <tr>\n",
       "      <th>0</th>\n",
       "      <td>1388795422991396869</td>\n",
       "      <td>Vaccine Hunters Canada</td>\n",
       "      <td>VaxHuntersCan</td>\n",
       "      <td>2021-05-02 10:00:06</td>\n",
       "      <td>[ON] 18+ RESIDENT OR WORKER IN M3J M3K M3M M3N...</td>\n",
       "      <td>[M3J, M3K, M3M, M3N, M6M, M9L, M9M, M9N]</td>\n",
       "      <td>open</td>\n",
       "      <td>18</td>\n",
       "      <td>None</td>\n",
       "    </tr>\n",
       "    <tr>\n",
       "      <th>1</th>\n",
       "      <td>1388697630205751297</td>\n",
       "      <td>Vaccine Hunters Canada</td>\n",
       "      <td>VaxHuntersCan</td>\n",
       "      <td>2021-05-02 03:31:30</td>\n",
       "      <td>[ON] Brampton 40+ \\nShoppers Drug Mart 10665 B...</td>\n",
       "      <td>[L6R, L6S, L6T, L6Z, L7A, L7C]</td>\n",
       "      <td>open</td>\n",
       "      <td>40</td>\n",
       "      <td>None</td>\n",
       "    </tr>\n",
       "    <tr>\n",
       "      <th>2</th>\n",
       "      <td>1388689726316679169</td>\n",
       "      <td>Vaccine Hunters Canada</td>\n",
       "      <td>VaxHuntersCan</td>\n",
       "      <td>2021-05-02 03:00:06</td>\n",
       "      <td>[ON] 18+ RESIDENT OR WORKER IN M3J M3K M3M M3N...</td>\n",
       "      <td>[M3J, M3K, M3M, M3N, M6M, M9L, M9M, M9N]</td>\n",
       "      <td>open</td>\n",
       "      <td>18</td>\n",
       "      <td>None</td>\n",
       "    </tr>\n",
       "  </tbody>\n",
       "</table>\n",
       "</div>"
      ],
      "text/plain": [
       "                    id                    name    screen_name  \\\n",
       "0  1388795422991396869  Vaccine Hunters Canada  VaxHuntersCan   \n",
       "1  1388697630205751297  Vaccine Hunters Canada  VaxHuntersCan   \n",
       "2  1388689726316679169  Vaccine Hunters Canada  VaxHuntersCan   \n",
       "\n",
       "          lastUpdated                                        eligibility  \\\n",
       "0 2021-05-02 10:00:06  [ON] 18+ RESIDENT OR WORKER IN M3J M3K M3M M3N...   \n",
       "1 2021-05-02 03:31:30  [ON] Brampton 40+ \\nShoppers Drug Mart 10665 B...   \n",
       "2 2021-05-02 03:00:06  [ON] 18+ RESIDENT OR WORKER IN M3J M3K M3M M3N...   \n",
       "\n",
       "                                postal_code status age booking_link  \n",
       "0  [M3J, M3K, M3M, M3N, M6M, M9L, M9M, M9N]   open  18         None  \n",
       "1            [L6R, L6S, L6T, L6Z, L7A, L7C]   open  40         None  \n",
       "2  [M3J, M3K, M3M, M3N, M6M, M9L, M9M, M9N]   open  18         None  "
      ]
     },
     "execution_count": 387,
     "metadata": {},
     "output_type": "execute_result"
    }
   ],
   "source": [
    "tweets_df.head(3)"
   ]
  },
  {
   "cell_type": "code",
   "execution_count": 393,
   "metadata": {},
   "outputs": [
    {
     "data": {
      "text/html": [
       "<div>\n",
       "<style scoped>\n",
       "    .dataframe tbody tr th:only-of-type {\n",
       "        vertical-align: middle;\n",
       "    }\n",
       "\n",
       "    .dataframe tbody tr th {\n",
       "        vertical-align: top;\n",
       "    }\n",
       "\n",
       "    .dataframe thead th {\n",
       "        text-align: right;\n",
       "    }\n",
       "</style>\n",
       "<table border=\"1\" class=\"dataframe\">\n",
       "  <thead>\n",
       "    <tr style=\"text-align: right;\">\n",
       "      <th></th>\n",
       "      <th>id</th>\n",
       "      <th>name</th>\n",
       "      <th>screen_name</th>\n",
       "      <th>lastUpdated</th>\n",
       "      <th>eligibility</th>\n",
       "      <th>postal_code</th>\n",
       "      <th>status</th>\n",
       "      <th>age</th>\n",
       "      <th>booking_link</th>\n",
       "    </tr>\n",
       "  </thead>\n",
       "  <tbody>\n",
       "    <tr>\n",
       "      <th>0</th>\n",
       "      <td>1388795422991396869</td>\n",
       "      <td>Vaccine Hunters Canada</td>\n",
       "      <td>VaxHuntersCan</td>\n",
       "      <td>2021-05-02 10:00:06</td>\n",
       "      <td>[ON] 18+ RESIDENT OR WORKER IN M3J M3K M3M M3N...</td>\n",
       "      <td>[M3J, M3K, M3M, M3N, M6M, M9L, M9M, M9N]</td>\n",
       "      <td>open</td>\n",
       "      <td>18</td>\n",
       "      <td>None</td>\n",
       "    </tr>\n",
       "    <tr>\n",
       "      <th>1</th>\n",
       "      <td>1388697630205751297</td>\n",
       "      <td>Vaccine Hunters Canada</td>\n",
       "      <td>VaxHuntersCan</td>\n",
       "      <td>2021-05-02 03:31:30</td>\n",
       "      <td>[ON] Brampton 40+ \\nShoppers Drug Mart 10665 B...</td>\n",
       "      <td>[L6R, L6S, L6T, L6Z, L7A, L7C]</td>\n",
       "      <td>open</td>\n",
       "      <td>40</td>\n",
       "      <td>None</td>\n",
       "    </tr>\n",
       "    <tr>\n",
       "      <th>2</th>\n",
       "      <td>1388689726316679169</td>\n",
       "      <td>Vaccine Hunters Canada</td>\n",
       "      <td>VaxHuntersCan</td>\n",
       "      <td>2021-05-02 03:00:06</td>\n",
       "      <td>[ON] 18+ RESIDENT OR WORKER IN M3J M3K M3M M3N...</td>\n",
       "      <td>[M3J, M3K, M3M, M3N, M6M, M9L, M9M, M9N]</td>\n",
       "      <td>open</td>\n",
       "      <td>18</td>\n",
       "      <td>None</td>\n",
       "    </tr>\n",
       "    <tr>\n",
       "      <th>3</th>\n",
       "      <td>1388673506188070913</td>\n",
       "      <td>Vaccine Hunters Canada</td>\n",
       "      <td>VaxHuntersCan</td>\n",
       "      <td>2021-05-02 01:55:38</td>\n",
       "      <td>[ON] TORONTO - Vaughan 40+ \\nShoppers Drug Mar...</td>\n",
       "      <td>[L3P, L3R, L3S, L3T, L4G, L6B, L6C, L6E]</td>\n",
       "      <td>open</td>\n",
       "      <td>40</td>\n",
       "      <td>https://outlook.office365.com/owa/calendar/Sho...</td>\n",
       "    </tr>\n",
       "    <tr>\n",
       "      <th>4</th>\n",
       "      <td>1388672753344159744</td>\n",
       "      <td>Vaccine Hunters Canada</td>\n",
       "      <td>VaxHuntersCan</td>\n",
       "      <td>2021-05-02 01:52:39</td>\n",
       "      <td>[ON] Brampton 40+\\nShoppers Drug Mart 1326 (HW...</td>\n",
       "      <td>[L0P, L4H, L4L, L6P, L6T, L6Z]</td>\n",
       "      <td>open</td>\n",
       "      <td>40</td>\n",
       "      <td>https://outlook.office365.com/owa/calendar/Sho...</td>\n",
       "    </tr>\n",
       "    <tr>\n",
       "      <th>...</th>\n",
       "      <td>...</td>\n",
       "      <td>...</td>\n",
       "      <td>...</td>\n",
       "      <td>...</td>\n",
       "      <td>...</td>\n",
       "      <td>...</td>\n",
       "      <td>...</td>\n",
       "      <td>...</td>\n",
       "      <td>...</td>\n",
       "    </tr>\n",
       "    <tr>\n",
       "      <th>85</th>\n",
       "      <td>1388258685357539333</td>\n",
       "      <td>Vaccine Hunters Canada</td>\n",
       "      <td>VaxHuntersCan</td>\n",
       "      <td>2021-04-30 22:27:17</td>\n",
       "      <td>[ON] Thornhill 40+\\nShoppers Drug Mart Spring ...</td>\n",
       "      <td>[L3P, L3R, L3T, L4C, L4J, L5T, L6B, L6R, L9L, ...</td>\n",
       "      <td>open</td>\n",
       "      <td>40</td>\n",
       "      <td>https://outlook.office365.com/owa/calendar/Sho...</td>\n",
       "    </tr>\n",
       "    <tr>\n",
       "      <th>86</th>\n",
       "      <td>1388251036515700737</td>\n",
       "      <td>Vaccine Hunters Canada</td>\n",
       "      <td>VaxHuntersCan</td>\n",
       "      <td>2021-04-30 21:56:54</td>\n",
       "      <td>[BC] Penticton Born 1991/before (30+)\\nShopper...</td>\n",
       "      <td>[V2A]</td>\n",
       "      <td>open</td>\n",
       "      <td>30</td>\n",
       "      <td>None</td>\n",
       "    </tr>\n",
       "    <tr>\n",
       "      <th>87</th>\n",
       "      <td>1388249943673032711</td>\n",
       "      <td>Vaccine Hunters Canada</td>\n",
       "      <td>VaxHuntersCan</td>\n",
       "      <td>2021-04-30 21:52:33</td>\n",
       "      <td>[ON] 18+ PEEL HOTSPOTS, M8V, M9A, M9B, M9C ETO...</td>\n",
       "      <td>[M8V, M9A, M9B, M9C]</td>\n",
       "      <td>open</td>\n",
       "      <td>18</td>\n",
       "      <td>https://thp-public.vertoengage.com/</td>\n",
       "    </tr>\n",
       "    <tr>\n",
       "      <th>88</th>\n",
       "      <td>1388237128572801024</td>\n",
       "      <td>Vaccine Hunters Canada</td>\n",
       "      <td>VaxHuntersCan</td>\n",
       "      <td>2021-04-30 21:01:38</td>\n",
       "      <td>[ON] London 40+ Walkin \\nShoppers 736\\n431 Ric...</td>\n",
       "      <td>[N5W, N5X, N5Y, N5Z, N6A, N6B, N6C, N6E, N6G, ...</td>\n",
       "      <td>open</td>\n",
       "      <td>40</td>\n",
       "      <td>None</td>\n",
       "    </tr>\n",
       "    <tr>\n",
       "      <th>24</th>\n",
       "      <td>1388130950555504642</td>\n",
       "      <td>Vaccine Hunters Canada</td>\n",
       "      <td>VaxHuntersCan</td>\n",
       "      <td>2021-04-30 13:59:43</td>\n",
       "      <td>[ON] Mississauga 40+ Walk-in's accepted Friday...</td>\n",
       "      <td>[L0J, L4W, L4X, L4Y, L4Z, L5A, L5B, L5C, L5G, ...</td>\n",
       "      <td>open</td>\n",
       "      <td>40</td>\n",
       "      <td>None</td>\n",
       "    </tr>\n",
       "  </tbody>\n",
       "</table>\n",
       "<p>89 rows × 9 columns</p>\n",
       "</div>"
      ],
      "text/plain": [
       "                     id                    name    screen_name  \\\n",
       "0   1388795422991396869  Vaccine Hunters Canada  VaxHuntersCan   \n",
       "1   1388697630205751297  Vaccine Hunters Canada  VaxHuntersCan   \n",
       "2   1388689726316679169  Vaccine Hunters Canada  VaxHuntersCan   \n",
       "3   1388673506188070913  Vaccine Hunters Canada  VaxHuntersCan   \n",
       "4   1388672753344159744  Vaccine Hunters Canada  VaxHuntersCan   \n",
       "..                  ...                     ...            ...   \n",
       "85  1388258685357539333  Vaccine Hunters Canada  VaxHuntersCan   \n",
       "86  1388251036515700737  Vaccine Hunters Canada  VaxHuntersCan   \n",
       "87  1388249943673032711  Vaccine Hunters Canada  VaxHuntersCan   \n",
       "88  1388237128572801024  Vaccine Hunters Canada  VaxHuntersCan   \n",
       "24  1388130950555504642  Vaccine Hunters Canada  VaxHuntersCan   \n",
       "\n",
       "           lastUpdated                                        eligibility  \\\n",
       "0  2021-05-02 10:00:06  [ON] 18+ RESIDENT OR WORKER IN M3J M3K M3M M3N...   \n",
       "1  2021-05-02 03:31:30  [ON] Brampton 40+ \\nShoppers Drug Mart 10665 B...   \n",
       "2  2021-05-02 03:00:06  [ON] 18+ RESIDENT OR WORKER IN M3J M3K M3M M3N...   \n",
       "3  2021-05-02 01:55:38  [ON] TORONTO - Vaughan 40+ \\nShoppers Drug Mar...   \n",
       "4  2021-05-02 01:52:39  [ON] Brampton 40+\\nShoppers Drug Mart 1326 (HW...   \n",
       "..                 ...                                                ...   \n",
       "85 2021-04-30 22:27:17  [ON] Thornhill 40+\\nShoppers Drug Mart Spring ...   \n",
       "86 2021-04-30 21:56:54  [BC] Penticton Born 1991/before (30+)\\nShopper...   \n",
       "87 2021-04-30 21:52:33  [ON] 18+ PEEL HOTSPOTS, M8V, M9A, M9B, M9C ETO...   \n",
       "88 2021-04-30 21:01:38  [ON] London 40+ Walkin \\nShoppers 736\\n431 Ric...   \n",
       "24 2021-04-30 13:59:43  [ON] Mississauga 40+ Walk-in's accepted Friday...   \n",
       "\n",
       "                                          postal_code status age  \\\n",
       "0            [M3J, M3K, M3M, M3N, M6M, M9L, M9M, M9N]   open  18   \n",
       "1                      [L6R, L6S, L6T, L6Z, L7A, L7C]   open  40   \n",
       "2            [M3J, M3K, M3M, M3N, M6M, M9L, M9M, M9N]   open  18   \n",
       "3            [L3P, L3R, L3S, L3T, L4G, L6B, L6C, L6E]   open  40   \n",
       "4                      [L0P, L4H, L4L, L6P, L6T, L6Z]   open  40   \n",
       "..                                                ...    ...  ..   \n",
       "85  [L3P, L3R, L3T, L4C, L4J, L5T, L6B, L6R, L9L, ...   open  40   \n",
       "86                                              [V2A]   open  30   \n",
       "87                               [M8V, M9A, M9B, M9C]   open  18   \n",
       "88  [N5W, N5X, N5Y, N5Z, N6A, N6B, N6C, N6E, N6G, ...   open  40   \n",
       "24  [L0J, L4W, L4X, L4Y, L4Z, L5A, L5B, L5C, L5G, ...   open  40   \n",
       "\n",
       "                                         booking_link  \n",
       "0                                                None  \n",
       "1                                                None  \n",
       "2                                                None  \n",
       "3   https://outlook.office365.com/owa/calendar/Sho...  \n",
       "4   https://outlook.office365.com/owa/calendar/Sho...  \n",
       "..                                                ...  \n",
       "85  https://outlook.office365.com/owa/calendar/Sho...  \n",
       "86                                               None  \n",
       "87                https://thp-public.vertoengage.com/  \n",
       "88                                               None  \n",
       "24                                               None  \n",
       "\n",
       "[89 rows x 9 columns]"
      ]
     },
     "execution_count": 393,
     "metadata": {},
     "output_type": "execute_result"
    }
   ],
   "source": [
    "tweets_df.sort_values(by=\"id\", ascending=False)"
   ]
  },
  {
   "cell_type": "code",
   "execution_count": 437,
   "metadata": {},
   "outputs": [],
   "source": [
    "# load to API\n",
    "api_key = os.getenv('API_KEY')\n",
    "secret = os.getenv('SECRET_KEY')\n",
    "api_url = \"https://findavaccine.ca\" #\"http://localhost:3000\""
   ]
  },
  {
   "cell_type": "code",
   "execution_count": 438,
   "metadata": {},
   "outputs": [
    {
     "name": "stdout",
     "output_type": "stream",
     "text": [
      "Updating Vaccine Hunters Canada\n",
      "Updating Vaccine Hunters Canada\n",
      "Updating Vaccine Hunters Canada\n",
      "Updating Vaccine Hunters Canada\n",
      "Updating Vaccine Hunters Canada\n",
      "Updating Vaccine Hunters Canada\n",
      "Updating Vaccine Hunters Canada\n",
      "Updating Vaccine Hunters Canada\n",
      "Updating Vaccine Hunters Canada\n",
      "Updating Vaccine Hunters Canada\n",
      "Updating Vaccine Hunters Canada\n",
      "Updating Vaccine Hunters Canada\n",
      "Updating Vaccine Hunters Canada\n",
      "Updating Vaccine Hunters Canada\n",
      "Updating Vaccine Hunters Canada\n",
      "Updating Vaccine Hunters Canada\n",
      "Updating Vaccine Hunters Canada\n",
      "Updating Vaccine Hunters Canada\n",
      "Updating Vaccine Hunters Canada\n",
      "Updating Vaccine Hunters Canada\n",
      "Updating Vaccine Hunters Canada\n",
      "Updating Vaccine Hunters Canada\n",
      "Updating Vaccine Hunters Canada\n",
      "Updating Vaccine Hunters Canada\n",
      "Updating Vaccine Hunters Canada\n",
      "Updating Vaccine Hunters Canada\n",
      "Updating Vaccine Hunters Canada\n",
      "Updating Vaccine Hunters Canada\n",
      "Updating Vaccine Hunters Canada\n",
      "Updating Vaccine Hunters Canada\n",
      "Updating Vaccine Hunters Canada\n",
      "Updating Vaccine Hunters Canada\n",
      "Updating Vaccine Hunters Canada\n",
      "Updating Vaccine Hunters Canada\n",
      "Updating Vaccine Hunters Canada\n",
      "Updating Vaccine Hunters Canada\n",
      "Updating Vaccine Hunters Canada\n",
      "Updating Vaccine Hunters Canada\n",
      "Updating Vaccine Hunters Canada\n",
      "Updating Vaccine Hunters Canada\n",
      "Updating Vaccine Hunters Canada\n",
      "Updating Vaccine Hunters Canada\n",
      "Updating Vaccine Hunters Canada\n",
      "Updating West Park Healthcare Centre\n",
      "Updating Vaccine Hunters Canada\n",
      "Updating Vaccine Hunters Canada\n",
      "Updating Vaccine Hunters Canada\n",
      "Updating Vaccine Hunters Canada\n",
      "Updating Vaccine Hunters Canada\n",
      "Updating Region of Peel\n",
      "Updating Vaccine Hunters Canada\n",
      "Updating Vaccine Hunters Canada\n",
      "Updating Vaccine Hunters Canada\n",
      "Updating Unity Health Toronto\n",
      "Updating Vaccine Hunters Canada\n",
      "Updating Vaccine Hunters Canada\n",
      "Updating Vaccine Hunters Canada\n",
      "Updating Vaccine Hunters Canada\n",
      "Updating Vaccine Hunters Canada\n"
     ]
    }
   ],
   "source": [
    "# use API to update\n",
    "notified = 0\n",
    "for i, row in tweets_df.iterrows():\n",
    "    payload = {\"notify\": True, **row}\n",
    "    print(f'Updating {row[\"name\"]}')\n",
    "    resp = requests.post(f'{api_url}/api/tweets/update', data=payload, auth=(api_key, secret) )\n",
    "    status = resp.status_code\n",
    "    if status == 200:\n",
    "        r = json.loads(resp.text)\n",
    "        notified += r[\"notify\"]\n",
    "    else:\n",
    "        print(f'Request failed for {row[\"id\"]}: {resp.text}')"
   ]
  },
  {
   "cell_type": "code",
   "execution_count": 439,
   "metadata": {},
   "outputs": [
    {
     "name": "stdout",
     "output_type": "stream",
     "text": [
      "Notified 40 users\n"
     ]
    }
   ],
   "source": [
    "print(f'Notified {notified} users')"
   ]
  },
  {
   "cell_type": "code",
   "execution_count": 401,
   "metadata": {},
   "outputs": [
    {
     "name": "stdout",
     "output_type": "stream",
     "text": [
      "{'twitters': [{'screen_name': 'VaxHuntersCan', 'name': 'Vaccine Hunters Canada', 'since_id': '1389897683196841984'}]}\n"
     ]
    }
   ],
   "source": [
    "# get latest id\n",
    "resp = requests.get(f'{api_url}/api/tweets/info', auth=(api_key, secret) )\n",
    "status = resp.status_code\n",
    "if status == 200:\n",
    "    r = json.loads(resp.text)\n",
    "    print(r)"
   ]
  },
  {
   "cell_type": "code",
   "execution_count": 400,
   "metadata": {},
   "outputs": [
    {
     "data": {
      "text/plain": [
       "True"
      ]
     },
     "execution_count": 400,
     "metadata": {},
     "output_type": "execute_result"
    }
   ],
   "source": [
    "r['twitters'][0][\"since_id\"] == \"1388795422991396869\""
   ]
  },
  {
   "cell_type": "code",
   "execution_count": null,
   "metadata": {},
   "outputs": [],
   "source": []
  }
 ],
 "metadata": {
  "kernelspec": {
   "display_name": "Python 3",
   "language": "python",
   "name": "python3"
  },
  "language_info": {
   "codemirror_mode": {
    "name": "ipython",
    "version": 3
   },
   "file_extension": ".py",
   "mimetype": "text/x-python",
   "name": "python",
   "nbconvert_exporter": "python",
   "pygments_lexer": "ipython3",
   "version": "3.7.9"
  }
 },
 "nbformat": 4,
 "nbformat_minor": 4
}
