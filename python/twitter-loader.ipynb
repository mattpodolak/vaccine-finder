{
 "cells": [
  {
   "cell_type": "code",
   "execution_count": 66,
   "metadata": {},
   "outputs": [],
   "source": [
    "import tweepy\n",
    "import os\n",
    "from dotenv import load_dotenv\n",
    "import datetime as dt\n",
    "import re"
   ]
  },
  {
   "cell_type": "code",
   "execution_count": 6,
   "metadata": {},
   "outputs": [],
   "source": [
    "load_dotenv()\n",
    "consumer_key = os.getenv('TWITTER_CONSUMER_KEY')\n",
    "consumer_secret = os.getenv('TWITTER_CONSUMER_SECRET')\n",
    "access_token = os.getenv('TWITTER_TOKEN_KEY')\n",
    "access_token_secret = os.getenv('TWITTER_TOKEN_SECRET')"
   ]
  },
  {
   "cell_type": "code",
   "execution_count": 10,
   "metadata": {},
   "outputs": [],
   "source": [
    "auth = tweepy.OAuthHandler(consumer_key, consumer_secret)\n",
    "# auth.set_access_token(access_token, access_token_secret)"
   ]
  },
  {
   "cell_type": "code",
   "execution_count": 11,
   "metadata": {},
   "outputs": [],
   "source": [
    "api = tweepy.API(auth)"
   ]
  },
  {
   "cell_type": "code",
   "execution_count": 38,
   "metadata": {},
   "outputs": [],
   "source": [
    "screen_name=\"VaxHuntersCAN\""
   ]
  },
  {
   "cell_type": "code",
   "execution_count": 47,
   "metadata": {},
   "outputs": [],
   "source": [
    "tweets = api.user_timeline(screen_name, include_rts=True, count=200, tweet_mode = 'extended')"
   ]
  },
  {
   "cell_type": "code",
   "execution_count": 52,
   "metadata": {},
   "outputs": [],
   "source": [
    "now = dt.datetime.now()\n",
    "time_36h = now - dt.timedelta(hours=36)"
   ]
  },
  {
   "cell_type": "code",
   "execution_count": 55,
   "metadata": {},
   "outputs": [
    {
     "name": "stdout",
     "output_type": "stream",
     "text": [
      "Old tweet\n",
      "Old tweet\n",
      "Old tweet\n",
      "Old tweet\n",
      "Old tweet\n",
      "Old tweet\n",
      "Old tweet\n",
      "Old tweet\n",
      "Old tweet\n",
      "Old tweet\n",
      "Old tweet\n",
      "Old tweet\n",
      "Old tweet\n",
      "Old tweet\n",
      "Old tweet\n",
      "Old tweet\n",
      "Old tweet\n",
      "Old tweet\n",
      "Old tweet\n",
      "Old tweet\n",
      "Old tweet\n",
      "Old tweet\n",
      "Old tweet\n",
      "Old tweet\n",
      "Old tweet\n",
      "Old tweet\n",
      "Old tweet\n",
      "Old tweet\n",
      "Old tweet\n",
      "Old tweet\n",
      "Old tweet\n"
     ]
    }
   ],
   "source": [
    "# extract tweets from last 36hrs\n",
    "tweets_36h = []\n",
    "for tweet in tweets:\n",
    "    if tweet.created_at > time_36h:\n",
    "        tweets_36h.append(tweet)\n",
    "    else:\n",
    "        print('Old tweet')"
   ]
  },
  {
   "cell_type": "code",
   "execution_count": 60,
   "metadata": {},
   "outputs": [
    {
     "data": {
      "text/plain": [
       "169"
      ]
     },
     "execution_count": 60,
     "metadata": {},
     "output_type": "execute_result"
    }
   ],
   "source": [
    "# number tweets from last 36h\n",
    "len(tweets_36h)"
   ]
  },
  {
   "cell_type": "code",
   "execution_count": 154,
   "metadata": {},
   "outputs": [
    {
     "name": "stdout",
     "output_type": "stream",
     "text": [
      "Shoppers Drug Mart - Oakridges: 13070 Yonge st\n"
     ]
    }
   ],
   "source": [
    "full_text = \"[ON] Richmond Hill 40+ APPOINTMENTS FROM 10am-5:30pm\\nShoppers Drug Mart - Oakridges: 13070 Yonge Street\\n22 AstraZeneca doses available, Online Booking\"\n",
    "lines = full_text.split(\"\\n\")\n",
    "age_pat = re.compile(r\"(street|road|drive|boulevard|avenue)\", re.IGNORECASE)\n",
    "for line in lines:\n",
    "    age = age_pat.search(line)\n",
    "    if age:\n",
    "        street = age.group(0)\n",
    "        sub = st_lookup[street.lower()]\n",
    "        line = re.sub(street, sub, line)\n",
    "        print(line)"
   ]
  },
  {
   "cell_type": "code",
   "execution_count": 153,
   "metadata": {},
   "outputs": [],
   "source": [
    "st_lookup = {'street': 'st', 'road': 'rd', 'drive': 'dr', 'boulevard': 'blvd', 'avenue':'ave'}"
   ]
  },
  {
   "cell_type": "code",
   "execution_count": 189,
   "metadata": {},
   "outputs": [],
   "source": [
    "a = []\n",
    "if(a):\n",
    "    print(a[0])"
   ]
  },
  {
   "cell_type": "code",
   "execution_count": 270,
   "metadata": {},
   "outputs": [],
   "source": [
    "class TweetExtract(object):\n",
    "    \n",
    "    def __init__(self):\n",
    "        self.age_pat = re.compile(r\"(\\d{2})\\+\")\n",
    "        self.year_pat = re.compile(r\"(Born|born).*(19\\d{2})\")\n",
    "        self.postal_pat = re.compile(r\"[A-Z]\\d[A-Z]\")\n",
    "        self.address_pat = re.compile(r\".*(\\d+.*\\s(?:st|rd|dr|ave|blvd|hwy|edge))(\\s|\\W|\\b)\", re.IGNORECASE)\n",
    "        self.sub_addr_pat = re.compile(r\"(?:\\d+\\s*[\\-]*)+(?:\\s\\w+)*\\s(?:st|rd|dr|ave|blvd|hwy)(?:(?:[\\s\\.]\\d+)|(?:,(?:\\s*\\w+)*)+)?\", re.IGNORECASE)\n",
    "        self.street_pat = re.compile(r\"(street|road|drive|boulevard|avenue|highway)\", re.IGNORECASE)\n",
    "        self.st_lookup = {'street': 'st', 'road': 'rd', 'drive': 'dr', 'boulevard': 'blvd', 'avenue':'ave', 'highway':'hwy'}\n",
    "        self.num_match = 0\n",
    "        \n",
    "        # load postal codes\n",
    "        self._p = pickle.load(open('postal_index.p', \"rb\"))\n",
    "        \n",
    "        postal_codes = pd.read_csv('./CanadianPostalCodes.csv')\n",
    "        self._fsa = np.asarray(postal_codes.loc[:, ['FSA']])\n",
    "        del postal_codes\n",
    "        \n",
    "    def get_age(self, full_text):\n",
    "        extracted_age = None\n",
    "        age = self.age_pat.search(full_text)\n",
    "        year = self.year_pat.search(full_text)\n",
    "        \n",
    "        if(age): # check for age\n",
    "            extracted_age = age.group(1)\n",
    "        elif (year): # check for year if age not included\n",
    "            extracted_age = 2021 - int(year.group(2))\n",
    "            \n",
    "        return extracted_age\n",
    "    \n",
    "    def search_address(self, address, sub_addr=None):\n",
    "        lat = lon = None\n",
    "        # create parameter string to minimize formatting issues\n",
    "        payload= {'q': address, 'format': 'jsonv2','countrycodes':'ca','addressdetails':1}\n",
    "        payload_str = \"&\".join(\"%s=%s\" % (k,v) for k,v in payload.items())\n",
    "        resp = requests.get('https://nominatim.openstreetmap.org/search',params=payload_str)\n",
    "        if resp.status_code == 200:\n",
    "            try:\n",
    "                geodata = json.loads(resp.text)\n",
    "                if(geodata):\n",
    "                    lat = geodata[0]['lat']\n",
    "                    lon = geodata[0]['lon']\n",
    "            except Exception as e:\n",
    "                pass # do nothing\n",
    "                \n",
    "        if(not lat and sub_addr):\n",
    "            return self.search_address(sub_addr)\n",
    "        return lat, lon\n",
    "    \n",
    "    def find_postals(self, lat, lon):\n",
    "        labels, distances = self._p.knn_query([[lat, lon]], k = 100)\n",
    "        nearest = self._fsa[labels[-1]] #find fsa for returned labels\n",
    "        u, indices = np.unique(nearest, return_index=True)\n",
    "        i = sorted(indices)[:6] # pick 5 closest unique postal codes\n",
    "        return nearest[i].flatten()\n",
    "        \n",
    "    def get_postal(self, full_text):\n",
    "        extracted_postal = []\n",
    "        postals = self.postal_pat.findall(full_text)\n",
    "        \n",
    "        if postals: #check for postal code\n",
    "            extracted_postal = postals\n",
    "        else: # check for address\n",
    "            lines = full_text.split(\"\\n\")\n",
    "            for line in lines:\n",
    "                # replace street endings to standardize\n",
    "                st_match = self.street_pat.search(line)\n",
    "                if st_match:\n",
    "                    street = st_match.group(0)\n",
    "                    sub = self.st_lookup[street.lower()]\n",
    "                    line = re.sub(street, sub, line)\n",
    "               \n",
    "                # search for address\n",
    "                match = self.sub_addr_pat.search(line)\n",
    "                if match:\n",
    "                    lat,lon = self.search_address(line, match.group(0))\n",
    "                    \n",
    "                    if(lat):\n",
    "                        # extract nearby postal codes\n",
    "                        extracted_postal = self.find_postals(lat,lon)\n",
    "        \n",
    "        return extracted_postal\n",
    "        \n",
    "    def single_tweet_extract(self, tweet):\n",
    "        t_data = dict()\n",
    "        \n",
    "        full_text = tweet.full_text\n",
    "\n",
    "        age = self.get_age(full_text)\n",
    "        postal_code = self.get_postal(full_text)\n",
    "\n",
    "        if(age and len(postal_code) > 0):\n",
    "            t_data['id'] = tweet.id # use id for max_id\n",
    "            t_data['name'] = tweet.user.name # Vaccine Hunters Canada\n",
    "            t_data['screen_name'] = tweet.user.screen_name\n",
    "            t_data['lastUpdated'] = tweet.created_at\n",
    "            t_data['eligibility'] = full_text\n",
    "            t_data['postal_code'] = postal_code\n",
    "            t_data['status'] = \"open\"\n",
    "            t_data['age'] = age\n",
    "            t_data['booking_link'] = '' #TODO: extract booking link\n",
    "            t_data['phone'] = '' #TODO: extract phone number\n",
    "        elif(hasattr(tweet, 'quoted_status')):\n",
    "            return self.single_tweet_extract(tweet.quoted_status)\n",
    "\n",
    "        return t_data\n",
    "    \n",
    "    def extract_tweets(self, tweets):\n",
    "        valid_tweet_data = []\n",
    "        for tweet in tweets:\n",
    "            tweet_data = self.single_tweet_extract(tweet)\n",
    "            if(tweet_data):\n",
    "                valid_tweet_data.append(tweet_data)\n",
    "        print(self.num_match)        \n",
    "        return valid_tweet_data"
   ]
  },
  {
   "cell_type": "code",
   "execution_count": 267,
   "metadata": {},
   "outputs": [
    {
     "name": "stdout",
     "output_type": "stream",
     "text": [
      "0\n"
     ]
    }
   ],
   "source": [
    "extract = TweetExtract()\n",
    "data = extract.extract_tweets(tweets_36h)"
   ]
  },
  {
   "cell_type": "code",
   "execution_count": 268,
   "metadata": {},
   "outputs": [
    {
     "data": {
      "text/plain": [
       "93"
      ]
     },
     "execution_count": 268,
     "metadata": {},
     "output_type": "execute_result"
    }
   ],
   "source": [
    "len(data)"
   ]
  },
  {
   "cell_type": "code",
   "execution_count": 269,
   "metadata": {},
   "outputs": [
    {
     "data": {
      "text/plain": [
       "[{'id': 1388795422991396869,\n",
       "  'name': 'Vaccine Hunters Canada',\n",
       "  'screen_name': 'VaxHuntersCan',\n",
       "  'lastUpdated': datetime.datetime(2021, 5, 2, 10, 0, 6),\n",
       "  'eligibility': '[ON] 18+ RESIDENT OR WORKER IN M3J M3K M3M M3N M6M M9L M9M M9N ONLY\\n\\nDownsview Arena (1633 Wilson Ave) is OPEN TODAY at 9AM for walk-ins with 1500 doses of vaccine. Proof of address is REQUIRED! #COVID19 #COVID19Vaccine #COVID19ON #vhcON https://t.co/jst1C8sxEa',\n",
       "  'postal_code': ['M3J', 'M3K', 'M3M', 'M3N', 'M6M', 'M9L', 'M9M', 'M9N'],\n",
       "  'status': 'open',\n",
       "  'age': '18',\n",
       "  'booking_link': '',\n",
       "  'phone': ''},\n",
       " {'id': 1388697630205751297,\n",
       "  'name': 'Vaccine Hunters Canada',\n",
       "  'screen_name': 'VaxHuntersCan',\n",
       "  'lastUpdated': datetime.datetime(2021, 5, 2, 3, 31, 30),\n",
       "  'eligibility': '[ON] Brampton 40+ \\nShoppers Drug Mart 10665 Bramalea Rd, Brampton\\nLots of doses available! No wait times!\\nWalk-in during open hours or call for appointment 905-793-2011\\n\\nCats are also our spokesperson for mask wearing #COVID19 #COVID19Vaccine #COVID19ON #vhcON https://t.co/EWGVMALMfW',\n",
       "  'postal_code': array([['L6R']], dtype=object),\n",
       "  'status': 'open',\n",
       "  'age': '40',\n",
       "  'booking_link': '',\n",
       "  'phone': ''},\n",
       " {'id': 1388689726316679169,\n",
       "  'name': 'Vaccine Hunters Canada',\n",
       "  'screen_name': 'VaxHuntersCan',\n",
       "  'lastUpdated': datetime.datetime(2021, 5, 2, 3, 0, 6),\n",
       "  'eligibility': '[ON] 18+ RESIDENT OR WORKER IN M3J M3K M3M M3N M6M M9L M9M M9N ONLY\\n\\nDownsview Arena (1633 Wilson Ave) is OPEN TOMORROW at 9AM for walk-ins with 1500 doses of vaccine. Proof of address is REQUIRED! #COVID19 #COVID19Vaccine #COVID19ON #vhcON https://t.co/wZXVLzJw2u',\n",
       "  'postal_code': ['M3J', 'M3K', 'M3M', 'M3N', 'M6M', 'M9L', 'M9M', 'M9N'],\n",
       "  'status': 'open',\n",
       "  'age': '18',\n",
       "  'booking_link': '',\n",
       "  'phone': ''}]"
      ]
     },
     "execution_count": 269,
     "metadata": {},
     "output_type": "execute_result"
    }
   ],
   "source": [
    "data[:3]"
   ]
  },
  {
   "cell_type": "code",
   "execution_count": 140,
   "metadata": {},
   "outputs": [
    {
     "data": {
      "text/plain": [
       "['[ON] 18+ M9N M3M M3H M6L M6K (ALL NEW) M3J M3L M3N M9L M9M RESIDENTS ONLY',\n",
       " \"Oakdale Community Centre is now accepting MORE POSTAL CODES. 350 Grandravine Drive! Proof of address required. Don't make us do commentary.\",\n",
       " 'https://t.co/3ovFYmmuRx #COVID19 #COVID19Vaccine #COVID19ON #vhcON']"
      ]
     },
     "execution_count": 140,
     "metadata": {},
     "output_type": "execute_result"
    }
   ],
   "source": [
    "tweet.quoted_status.full_text.split(\"\\n\")"
   ]
  },
  {
   "cell_type": "code",
   "execution_count": 167,
   "metadata": {},
   "outputs": [
    {
     "data": {
      "text/plain": [
       "[{'url': 'https://t.co/xuX7NcrMp5',\n",
       "  'expanded_url': 'https://twitter.com/VaxHuntersCan/status/1388189057885392905',\n",
       "  'display_url': 'twitter.com/VaxHuntersCan/…',\n",
       "  'indices': [47, 70]}]"
      ]
     },
     "execution_count": 167,
     "metadata": {},
     "output_type": "execute_result"
    }
   ],
   "source": [
    "tweet.entities['urls']"
   ]
  },
  {
   "cell_type": "code",
   "execution_count": 92,
   "metadata": {},
   "outputs": [
    {
     "data": {
      "text/plain": [
       "True"
      ]
     },
     "execution_count": 92,
     "metadata": {},
     "output_type": "execute_result"
    }
   ],
   "source": [
    "tweets_36h[1].id < 1388835561713061890"
   ]
  },
  {
   "cell_type": "code",
   "execution_count": 219,
   "metadata": {},
   "outputs": [
    {
     "data": {
      "text/plain": [
       "169"
      ]
     },
     "execution_count": 219,
     "metadata": {},
     "output_type": "execute_result"
    }
   ],
   "source": [
    "len(tweets_36h)"
   ]
  },
  {
   "cell_type": "markdown",
   "metadata": {},
   "source": [
    "# Lambda Fxn"
   ]
  },
  {
   "cell_type": "code",
   "execution_count": 261,
   "metadata": {},
   "outputs": [],
   "source": [
    "import tweepy\n",
    "import os\n",
    "import re\n",
    "import requests\n",
    "import json\n",
    "import time\n",
    "import pandas as pd\n",
    "import numpy as np\n",
    "import pickle"
   ]
  },
  {
   "cell_type": "code",
   "execution_count": null,
   "metadata": {},
   "outputs": [],
   "source": [
    "consumer_key = os.getenv('TWITTER_CONSUMER_KEY')\n",
    "consumer_secret = os.getenv('TWITTER_CONSUMER_SECRET')\n",
    "auth = tweepy.OAuthHandler(consumer_key, consumer_secret)"
   ]
  },
  {
   "cell_type": "code",
   "execution_count": null,
   "metadata": {},
   "outputs": [],
   "source": [
    "api = tweepy.API(auth)"
   ]
  },
  {
   "cell_type": "code",
   "execution_count": 90,
   "metadata": {},
   "outputs": [],
   "source": [
    "# connect to api, query for since id and screen_name to search\n",
    "since_id = 1388835561713061890\n",
    "\n",
    "# check for latest tweets\n",
    "tweets = api.user_timeline(screen_name, include_rts=True, count=200, since_id=since_id, tweet_mode = 'extended')\n",
    "\n",
    "# check length, and extract if > 0\n",
    "len(tweets)"
   ]
  },
  {
   "cell_type": "code",
   "execution_count": null,
   "metadata": {},
   "outputs": [],
   "source": []
  }
 ],
 "metadata": {
  "kernelspec": {
   "display_name": "Python 3",
   "language": "python",
   "name": "python3"
  },
  "language_info": {
   "codemirror_mode": {
    "name": "ipython",
    "version": 3
   },
   "file_extension": ".py",
   "mimetype": "text/x-python",
   "name": "python",
   "nbconvert_exporter": "python",
   "pygments_lexer": "ipython3",
   "version": "3.7.9"
  }
 },
 "nbformat": 4,
 "nbformat_minor": 4
}
